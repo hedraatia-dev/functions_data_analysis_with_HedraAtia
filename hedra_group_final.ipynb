# --- الخطوة 1: تثبيت المكتبات (إذا لم تكن مثبتة) ---
# !pip install ipywidgets
# !pip install openpyxl

# --- الخطوة 2: استيراد المكتبات المطلوبة ---

import pandas as pd
import numpy as np
import matplotlib.pyplot as plt
import seaborn as sns

import ipywidgets as widgets
from IPython.display import display, clear_output
import io


# إعدادات الشكل الافتراضي للرسوم
plt.style.use("ggplot")
sns.set_theme()
sns.set_palette("pastel")

# --- الخطوة 3: وظيفة hedra_group_final (لا تحتاج لتغيير) ---
def hedra_group_final(df, by, cols, agg_func='sum', 
                      grand_total=True, total_color='yellow',
                      gradient=True, gradient_cmap='YlGnBu',
                      export_excel=False, excel_path='hedra_report.xlsx'):
    
    if df is None:
        print("الرجاء رفع ملف بيانات أولاً.")
        return
    if not cols or not by:
        print("الرجاء اختيار عمود تجميع وعمود رقمي واحد على الأقل.")
        return

    grouped = df.groupby(by)[cols].agg(agg_func).reset_index()
    if grand_total:
        total = df[cols].agg(agg_func)
        total_row = {col: total.get(col, '') for col in grouped.columns}
        by_cols = by if isinstance(by, list) else [by]
        total_row[by_cols[0]] = "الإجمالي"
        for col in by_cols[1:]: total_row[col] = ''
        grouped = pd.concat([grouped, pd.DataFrame([total_row])], ignore_index=True)
    styler = grouped.style
    numeric_cols = [col for col in cols if col in grouped.columns]
    styler.format('{:,.2f}', subset=numeric_cols)
    if gradient:
        styler.background_gradient(cmap=gradient_cmap, subset=numeric_cols)
    if grand_total:
        by_col_name = (by if isinstance(by, list) else [by])[0]
        total_row_index = grouped[grouped[by_col_name] == 'الإجمالي'].index
        styler.set_properties(subset=pd.IndexSlice[total_row_index, :], **{'background-color': total_color, 'color': 'black', 'font-weight': 'bold'})
    styler.hide(axis='index')
    if export_excel:
        styler.to_excel(excel_path, engine='openpyxl', index=False)
        print(f"تم تصدير التقرير بنجاح إلى: {excel_path}")
    return styler

# --- الخطوة 4: إنشاء عناصر الواجهة ---
current_df = None

uploader = widgets.FileUpload(
    accept='.xlsx,.csv',
    multiple=False,
    description='ارفع ملف البيانات'
)

group_by_widget = widgets.SelectMultiple(description='التجميع حسب:')
columns_widget = widgets.SelectMultiple(description='الأعمدة الرقمية:')
agg_func_widget = widgets.Dropdown(options=['sum', 'mean', 'max', 'min'], value='sum', description='الدالة:')
grand_total_widget = widgets.Checkbox(value=True, description='إظهار الإجمالي')
total_color_widget = widgets.ColorPicker(value='yellow', description='لون الإجمالي:')
export_widget = widgets.Checkbox(value=False, description='تصدير إلى Excel')
run_button = widgets.Button(description="إنشاء التقرير", button_style='success', disabled=True)
output_container = widgets.Output()
status_label = widgets.Label(value="في انتظار رفع الملف...")

# --- الخطوة 5: دالة لمعالجة الملف المرفوع (تصحيح جديد) ---
def on_file_upload(change):
    global current_df
    
    # التحقق من وجود قيمة في أداة الرفع
    if not uploader.value:
        run_button.disabled = True
        status_label.value = "في انتظار رفع ملف..."
        current_df = None
        with output_container:
            clear_output()
        return

    try:
        # uploader.value هو قاموس، المفتاح هو اسم الملف
        uploaded_filename = list(uploader.value.keys())[0]
        uploaded_file_content = uploader.value[uploaded_filename]['content']

        if uploaded_filename.endswith('.csv'):
            current_df = pd.read_csv(io.BytesIO(uploaded_file_content))
        elif uploaded_filename.endswith('.xlsx'):
            current_df = pd.read_excel(io.BytesIO(uploaded_file_content))
        else:
            status_label.value = "صيغة الملف غير مدعومة."
            return
            
        status_label.value = f"تم تحميل الملف بنجاح: {uploaded_filename}"
        
        categorical_cols = current_df.select_dtypes(include=['object', 'category']).columns.tolist()
        numerical_cols = current_df.select_dtypes(include=np.number).columns.tolist()
        group_by_widget.options = categorical_cols
        columns_widget.options = numerical_cols
        
        run_button.disabled = False
        
    except Exception as e:
        status_label.value = f"خطأ في قراءة الملف: {e}"
        run_button.disabled = True

# ربط الدالة بزر الرفع
uploader.observe(on_file_upload, names='value')

# --- الخطوة 6: دالة التحليل ---
def run_analysis(b):
    with output_container:
        clear_output(wait=True)
        result = hedra_group_final(
            df=current_df,
            by=list(group_by_widget.value),
            cols=list(columns_widget.value),
            agg_func=agg_func_widget.value,
            grand_total=grand_total_widget.value,
            total_color=total_color_widget.value,
            export_excel=export_widget.value
        )
        if result:
            display(result)

run_button.on_click(run_analysis)

# --- الخطوة 7: عرض الواجهة النهائية ---
upload_box = widgets.VBox([uploader, status_label])
analysis_box = widgets.VBox([
    widgets.HBox([group_by_widget, columns_widget]),
    agg_func_widget,
    widgets.HBox([grand_total_widget, total_color_widget]),
    export_widget,
    run_button
])

print("منصة التحليل التفاعلية النهائية")
display(widgets.VBox([upload_box, analysis_box, output_container]))
